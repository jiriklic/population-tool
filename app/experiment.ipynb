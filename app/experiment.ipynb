{
 "cells": [
  {
   "cell_type": "code",
   "execution_count": 1,
   "id": "77408bdf",
   "metadata": {},
   "outputs": [],
   "source": [
    "import geopandas as gpd\n",
    "import ee\n",
    "\n",
    "ee.Initialize()"
   ]
  },
  {
   "cell_type": "code",
   "execution_count": 2,
   "id": "af4d708d",
   "metadata": {},
   "outputs": [],
   "source": [
    "# Set filename\n",
    "# gdf_filename = 'https://raw.githubusercontent.com/mapaction/assessment-resources/main/dataframe_1.geojson'\n",
    "gdf_filename = 'https://raw.githubusercontent.com/mapaction/assessment-resources/main/dataframe_2.geojson'\n",
    "\n",
    "# Load GeoDataFrame\n",
    "gdf = gpd.read_file(gdf_filename)"
   ]
  },
  {
   "cell_type": "code",
   "execution_count": 3,
   "id": "b8b4b56b",
   "metadata": {},
   "outputs": [
    {
     "data": {
      "text/html": [
       "<div>\n",
       "<style scoped>\n",
       "    .dataframe tbody tr th:only-of-type {\n",
       "        vertical-align: middle;\n",
       "    }\n",
       "\n",
       "    .dataframe tbody tr th {\n",
       "        vertical-align: top;\n",
       "    }\n",
       "\n",
       "    .dataframe thead th {\n",
       "        text-align: right;\n",
       "    }\n",
       "</style>\n",
       "<table border=\"1\" class=\"dataframe\">\n",
       "  <thead>\n",
       "    <tr style=\"text-align: right;\">\n",
       "      <th></th>\n",
       "      <th>Name</th>\n",
       "      <th>geometry</th>\n",
       "    </tr>\n",
       "  </thead>\n",
       "  <tbody>\n",
       "    <tr>\n",
       "      <th>0</th>\n",
       "      <td>A</td>\n",
       "      <td>MULTIPOLYGON (((38.50207 32.83333, 38.48494 32...</td>\n",
       "    </tr>\n",
       "    <tr>\n",
       "      <th>1</th>\n",
       "      <td>B</td>\n",
       "      <td>MULTIPOLYGON (((35.95496 29.11667, 35.94378 29...</td>\n",
       "    </tr>\n",
       "    <tr>\n",
       "      <th>2</th>\n",
       "      <td>C</td>\n",
       "      <td>MULTIPOLYGON (((43.66047 36.58333, 43.65409 36...</td>\n",
       "    </tr>\n",
       "    <tr>\n",
       "      <th>3</th>\n",
       "      <td>D</td>\n",
       "      <td>MULTIPOLYGON (((44.24982 36.58351, 44.25000 36...</td>\n",
       "    </tr>\n",
       "    <tr>\n",
       "      <th>4</th>\n",
       "      <td>E</td>\n",
       "      <td>MULTIPOLYGON (((44.29176 36.60000, 44.29165 36...</td>\n",
       "    </tr>\n",
       "  </tbody>\n",
       "</table>\n",
       "</div>"
      ],
      "text/plain": [
       "  Name                                           geometry\n",
       "0    A  MULTIPOLYGON (((38.50207 32.83333, 38.48494 32...\n",
       "1    B  MULTIPOLYGON (((35.95496 29.11667, 35.94378 29...\n",
       "2    C  MULTIPOLYGON (((43.66047 36.58333, 43.65409 36...\n",
       "3    D  MULTIPOLYGON (((44.24982 36.58351, 44.25000 36...\n",
       "4    E  MULTIPOLYGON (((44.29176 36.60000, 44.29165 36..."
      ]
     },
     "execution_count": 3,
     "metadata": {},
     "output_type": "execute_result"
    }
   ],
   "source": [
    "gdf"
   ]
  },
  {
   "cell_type": "code",
   "execution_count": 8,
   "id": "e64f019f",
   "metadata": {},
   "outputs": [
    {
     "name": "stdout",
     "output_type": "stream",
     "text": [
      "CPU times: user 2.6 s, sys: 56.8 ms, total: 2.66 s\n",
      "Wall time: 44.2 s\n"
     ]
    }
   ],
   "source": [
    "%%time\n",
    "\n",
    "# Load WorldPop raster and restrict year\n",
    "pop_collection = ee.ImageCollection(\"WorldPop/GP/100m/pop\")\n",
    "pop_year = pop_collection.filterMetadata('year', 'equals', 2020)\n",
    "\n",
    "# Retrieve image scale\n",
    "scale = pop_collection.first().projection().nominalScale().getInfo()\n",
    "\n",
    "# Merge all images\n",
    "pop_img = pop_collection.mosaic()\n",
    "\n",
    "# Create empty ee_list\n",
    "z_total = ee.List([])\n",
    "\n",
    "# Loop over polygons\n",
    "for i in range(len(gdf)):\n",
    "    \n",
    "    if gdf['geometry'].iloc[i].geom_type == 'Polygon':\n",
    "        data_dict = [gdf['geometry'].iloc[i]]\n",
    "    else:\n",
    "        data_dict = list(gdf['geometry'].iloc[i].geoms)\n",
    "\n",
    "    # Create list of polygons that constitutes the multipolygon\n",
    "    gdf_pol = gpd.GeoDataFrame(\n",
    "        {'geometry': data_dict},\n",
    "        crs=gdf.crs\n",
    "    )\n",
    "\n",
    "    # Create feature collection out of GeoSeries\n",
    "    polygons_fc = ee.FeatureCollection(gdf_pol.__geo_interface__)\n",
    "\n",
    "    # Calculate zonal statistics\n",
    "    zonal_statistics = pop_img.reduceRegions(\n",
    "        reducer=ee.Reducer.sum(), \n",
    "        collection=polygons_fc, \n",
    "        scale=scale\n",
    "    )\n",
    "\n",
    "    # Create list with 'sum' values\n",
    "    z_sum = zonal_statistics.aggregate_array('sum')\n",
    "    \n",
    "    # Calculate sum over the list\n",
    "    z_pol = z_sum.reduce(ee.Reducer.sum())\n",
    "\n",
    "    # Append result to ee_list\n",
    "    z_total = z_total.add(z_pol)\n",
    "\n",
    "try:\n",
    "    # Print list\n",
    "    z_total.getInfo()\n",
    "except ee.EEException as e:\n",
    "    if \"Request payload size exceeds the limit\" in str(e):\n",
    "        print(True)"
   ]
  }
 ],
 "metadata": {
  "kernelspec": {
   "display_name": "proximity",
   "language": "python",
   "name": "python3"
  },
  "language_info": {
   "codemirror_mode": {
    "name": "ipython",
    "version": 3
   },
   "file_extension": ".py",
   "mimetype": "text/x-python",
   "name": "python",
   "nbconvert_exporter": "python",
   "pygments_lexer": "ipython3",
   "version": "3.9.16"
  }
 },
 "nbformat": 4,
 "nbformat_minor": 5
}
