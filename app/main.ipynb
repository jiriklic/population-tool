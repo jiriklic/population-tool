{
 "cells": [
  {
   "cell_type": "markdown",
   "id": "f0431919-c80a-4f52-bf4e-22454611d75f",
   "metadata": {},
   "source": [
    "# Test notebook"
   ]
  },
  {
   "cell_type": "markdown",
   "id": "a101c1d8-3ed5-49fa-8766-c3528b8d85d7",
   "metadata": {},
   "source": [
    "## Imports"
   ]
  },
  {
   "cell_type": "code",
   "execution_count": 40,
   "id": "058ee495-3a04-43db-a16f-66b3c21ab21b",
   "metadata": {},
   "outputs": [
    {
     "name": "stdout",
     "output_type": "stream",
     "text": [
      "The autoreload extension is already loaded. To reload it, use:\n",
      "  %reload_ext autoreload\n"
     ]
    }
   ],
   "source": [
    "%load_ext autoreload\n",
    "%autoreload 2"
   ]
  },
  {
   "cell_type": "code",
   "execution_count": 41,
   "id": "dff3e296-74bc-4b6d-9c67-8c5faba7315d",
   "metadata": {},
   "outputs": [],
   "source": [
    "import folium\n",
    "import streamlit as st\n",
    "import os\n",
    "import matplotlib\n",
    "from rasterstats import zonal_stats\n",
    "import rasterio\n",
    "import requests\n",
    "\n",
    "from src.utils import *\n",
    "from src.utils_population import *\n",
    "from src.utils_plotting import *"
   ]
  },
  {
   "cell_type": "markdown",
   "id": "c6523f08-59b0-48de-8d1c-9cd8cdede290",
   "metadata": {},
   "source": [
    "## General parameters"
   ]
  },
  {
   "cell_type": "code",
   "execution_count": 42,
   "id": "62cb8e26-ad70-4722-8b3e-aadd69abebe1",
   "metadata": {},
   "outputs": [],
   "source": [
    "verbose = True"
   ]
  },
  {
   "cell_type": "markdown",
   "id": "ec473073-ad4f-4b89-862b-3071e7cf55d2",
   "metadata": {},
   "source": [
    "## User input"
   ]
  },
  {
   "cell_type": "code",
   "execution_count": 43,
   "id": "e08206b6-ce1e-4077-a867-22a1722ca9b3",
   "metadata": {},
   "outputs": [],
   "source": [
    "# Parameters given by the user\n",
    "# gdf_file = \"test_data/mda_isochrones.geojson\"\n",
    "# gdf_file = 'test_data/mda_isochrones.zip'\n",
    "gdf_file = 'test_data/shakeintensity_complex.zip'\n",
    "data_type = \"UNadj_constrained\"\n",
    "year = 2020\n",
    "aggregated = False"
   ]
  },
  {
   "cell_type": "markdown",
   "id": "b0db9a1c-d4a5-44ee-82f6-c0098cb47ccb",
   "metadata": {},
   "source": [
    "## Process input data"
   ]
  },
  {
   "cell_type": "code",
   "execution_count": 44,
   "id": "988ec368-3683-483c-bbe4-2c3e668aebd4",
   "metadata": {},
   "outputs": [],
   "source": [
    "# Create geopandas dataframes and prepare starting points\n",
    "gdf, error = load_gdf(gdf_file)\n",
    "\n",
    "if error:\n",
    "    raise ValueError(error)\n",
    "    \n",
    "gdf = gdf.iloc[:5, ]"
   ]
  },
  {
   "cell_type": "code",
   "execution_count": 45,
   "id": "ff1cba1b",
   "metadata": {},
   "outputs": [
    {
     "data": {
      "text/html": [
       "<div>\n",
       "<style scoped>\n",
       "    .dataframe tbody tr th:only-of-type {\n",
       "        vertical-align: middle;\n",
       "    }\n",
       "\n",
       "    .dataframe tbody tr th {\n",
       "        vertical-align: top;\n",
       "    }\n",
       "\n",
       "    .dataframe thead th {\n",
       "        text-align: right;\n",
       "    }\n",
       "</style>\n",
       "<table border=\"1\" class=\"dataframe\">\n",
       "  <thead>\n",
       "    <tr style=\"text-align: right;\">\n",
       "      <th></th>\n",
       "      <th>id</th>\n",
       "      <th>grid_code</th>\n",
       "      <th>grid_value</th>\n",
       "      <th>mag</th>\n",
       "      <th>eventTime</th>\n",
       "      <th>updated</th>\n",
       "      <th>url</th>\n",
       "      <th>Shape__Are</th>\n",
       "      <th>Shape__Len</th>\n",
       "      <th>geometry</th>\n",
       "    </tr>\n",
       "  </thead>\n",
       "  <tbody>\n",
       "    <tr>\n",
       "      <th>0</th>\n",
       "      <td>us6000jlqa</td>\n",
       "      <td>4</td>\n",
       "      <td>4.8</td>\n",
       "      <td>7.5</td>\n",
       "      <td>2023-02-06</td>\n",
       "      <td>2023-02-12</td>\n",
       "      <td>https://earthquake.usgs.gov/earthquakes/eventp...</td>\n",
       "      <td>7.495473e+11</td>\n",
       "      <td>7.218840e+07</td>\n",
       "      <td>MULTIPOLYGON (((38.50207 32.83333, 38.48494 32...</td>\n",
       "    </tr>\n",
       "    <tr>\n",
       "      <th>1</th>\n",
       "      <td>us6000jllz</td>\n",
       "      <td>4</td>\n",
       "      <td>4.8</td>\n",
       "      <td>7.8</td>\n",
       "      <td>2023-02-06</td>\n",
       "      <td>2023-02-12</td>\n",
       "      <td>https://earthquake.usgs.gov/earthquakes/eventp...</td>\n",
       "      <td>1.307015e+12</td>\n",
       "      <td>1.229430e+08</td>\n",
       "      <td>MULTIPOLYGON (((35.95496 29.11667, 35.94378 29...</td>\n",
       "    </tr>\n",
       "    <tr>\n",
       "      <th>2</th>\n",
       "      <td>us7000j56z</td>\n",
       "      <td>2</td>\n",
       "      <td>2.8</td>\n",
       "      <td>5.8</td>\n",
       "      <td>2023-01-18</td>\n",
       "      <td>2023-01-22</td>\n",
       "      <td>https://earthquake.usgs.gov/earthquakes/eventp...</td>\n",
       "      <td>9.668782e+10</td>\n",
       "      <td>3.006155e+07</td>\n",
       "      <td>MULTIPOLYGON (((43.66047 36.58333, 43.65409 36...</td>\n",
       "    </tr>\n",
       "    <tr>\n",
       "      <th>3</th>\n",
       "      <td>us7000j56z</td>\n",
       "      <td>3</td>\n",
       "      <td>3.8</td>\n",
       "      <td>5.8</td>\n",
       "      <td>2023-01-18</td>\n",
       "      <td>2023-01-22</td>\n",
       "      <td>https://earthquake.usgs.gov/earthquakes/eventp...</td>\n",
       "      <td>1.470852e+11</td>\n",
       "      <td>3.247177e+07</td>\n",
       "      <td>MULTIPOLYGON (((44.24982 36.58351, 44.25000 36...</td>\n",
       "    </tr>\n",
       "    <tr>\n",
       "      <th>4</th>\n",
       "      <td>us6000jk0t</td>\n",
       "      <td>2</td>\n",
       "      <td>2.8</td>\n",
       "      <td>5.9</td>\n",
       "      <td>2023-01-28</td>\n",
       "      <td>2023-02-04</td>\n",
       "      <td>https://earthquake.usgs.gov/earthquakes/eventp...</td>\n",
       "      <td>5.373947e+10</td>\n",
       "      <td>2.705561e+07</td>\n",
       "      <td>MULTIPOLYGON (((44.29176 36.60000, 44.29165 36...</td>\n",
       "    </tr>\n",
       "  </tbody>\n",
       "</table>\n",
       "</div>"
      ],
      "text/plain": [
       "           id  grid_code  grid_value  mag   eventTime     updated  \\\n",
       "0  us6000jlqa          4         4.8  7.5  2023-02-06  2023-02-12   \n",
       "1  us6000jllz          4         4.8  7.8  2023-02-06  2023-02-12   \n",
       "2  us7000j56z          2         2.8  5.8  2023-01-18  2023-01-22   \n",
       "3  us7000j56z          3         3.8  5.8  2023-01-18  2023-01-22   \n",
       "4  us6000jk0t          2         2.8  5.9  2023-01-28  2023-02-04   \n",
       "\n",
       "                                                 url    Shape__Are  \\\n",
       "0  https://earthquake.usgs.gov/earthquakes/eventp...  7.495473e+11   \n",
       "1  https://earthquake.usgs.gov/earthquakes/eventp...  1.307015e+12   \n",
       "2  https://earthquake.usgs.gov/earthquakes/eventp...  9.668782e+10   \n",
       "3  https://earthquake.usgs.gov/earthquakes/eventp...  1.470852e+11   \n",
       "4  https://earthquake.usgs.gov/earthquakes/eventp...  5.373947e+10   \n",
       "\n",
       "     Shape__Len                                           geometry  \n",
       "0  7.218840e+07  MULTIPOLYGON (((38.50207 32.83333, 38.48494 32...  \n",
       "1  1.229430e+08  MULTIPOLYGON (((35.95496 29.11667, 35.94378 29...  \n",
       "2  3.006155e+07  MULTIPOLYGON (((43.66047 36.58333, 43.65409 36...  \n",
       "3  3.247177e+07  MULTIPOLYGON (((44.24982 36.58351, 44.25000 36...  \n",
       "4  2.705561e+07  MULTIPOLYGON (((44.29176 36.60000, 44.29165 36...  "
      ]
     },
     "execution_count": 45,
     "metadata": {},
     "output_type": "execute_result"
    }
   ],
   "source": [
    "gdf"
   ]
  },
  {
   "cell_type": "markdown",
   "id": "2dd44763-e60a-4189-8eb5-bce44f207111",
   "metadata": {},
   "source": [
    "## Run computation"
   ]
  },
  {
   "cell_type": "code",
   "execution_count": 54,
   "id": "4edb6ecf",
   "metadata": {},
   "outputs": [
    {
     "name": "stdout",
     "output_type": "stream",
     "text": [
      "Retrieving data from Google Earth Engine...\n",
      "Band (1/36): M_0\n",
      "Band (2/36): M_1\n",
      "Band (3/36): M_5\n",
      "Band (4/36): M_10\n",
      "Band (5/36): M_15\n",
      "Band (6/36): M_20\n",
      "Band (7/36): M_25\n",
      "Band (8/36): M_30\n",
      "Band (9/36): M_35\n",
      "Band (10/36): M_40\n",
      "Band (11/36): M_45\n",
      "Band (12/36): M_50\n",
      "Band (13/36): M_55\n",
      "Band (14/36): M_60\n",
      "Band (15/36): M_65\n",
      "Band (16/36): M_70\n",
      "Band (17/36): M_75\n",
      "Band (18/36): M_80\n",
      "Band (19/36): F_0\n",
      "Band (20/36): F_1\n",
      "Band (21/36): F_5\n",
      "Band (22/36): F_10\n",
      "Band (23/36): F_15\n",
      "Band (24/36): F_20\n",
      "Band (25/36): F_25\n",
      "Band (26/36): F_30\n",
      "Band (27/36): F_35\n",
      "Band (28/36): F_40\n",
      "Band (29/36): F_45\n",
      "Band (30/36): F_50\n",
      "Band (31/36): F_55\n",
      "Band (32/36): F_60\n",
      "Band (33/36): F_65\n",
      "Band (34/36): F_70\n",
      "Band (35/36): F_75\n",
      "Band (36/36): F_80\n",
      "CPU times: user 1.91 s, sys: 75.8 ms, total: 1.98 s\n",
      "Wall time: 36.9 s\n"
     ]
    }
   ],
   "source": [
    "%%time\n",
    "\n",
    "zonal_stat = add_population_data(\n",
    "    gdf=gdf,\n",
    "    data_type=data_type,\n",
    "    tif_folder='test_data/pop_data',\n",
    "    data_folder='data',\n",
    "    year=year,\n",
    "    aggregated=aggregated,\n",
    "    clobber=True,\n",
    "    verbose=True,\n",
    "    text_on_streamlit=False,\n",
    "    progress_bar=False,\n",
    ")"
   ]
  },
  {
   "cell_type": "code",
   "execution_count": null,
   "id": "117ed73e",
   "metadata": {},
   "outputs": [],
   "source": [
    "zonal_stat.getInfo()"
   ]
  },
  {
   "cell_type": "markdown",
   "id": "e8f599d1",
   "metadata": {},
   "source": [
    "## Plot"
   ]
  },
  {
   "cell_type": "code",
   "execution_count": null,
   "id": "53e4b998",
   "metadata": {},
   "outputs": [],
   "source": [
    "aggregated=aggregated\n",
    "joint=False\n",
    "col_label = 'PARAMVALUE'\n",
    "legend_title = 'Admin level'\n",
    "plot_title = 'Admin level'\n",
    "\n",
    "fig = plot_pop_data(\n",
    "    gdf=gdf_with_pop, \n",
    "    col_label=col_label,\n",
    "    legend_title=legend_title, \n",
    "    plot_title=plot_title,\n",
    "    aggregated=aggregated,\n",
    "    joint=joint,\n",
    "    cmap_name='viridis'\n",
    "    )\n",
    "\n",
    "fig.show()"
   ]
  },
  {
   "cell_type": "code",
   "execution_count": null,
   "id": "fb8fd643",
   "metadata": {},
   "outputs": [],
   "source": []
  }
 ],
 "metadata": {
  "kernelspec": {
   "display_name": "Python [conda env:proximity]",
   "language": "python",
   "name": "conda-env-proximity-py"
  },
  "language_info": {
   "codemirror_mode": {
    "name": "ipython",
    "version": 3
   },
   "file_extension": ".py",
   "mimetype": "text/x-python",
   "name": "python",
   "nbconvert_exporter": "python",
   "pygments_lexer": "ipython3",
   "version": "3.9.16"
  }
 },
 "nbformat": 4,
 "nbformat_minor": 5
}
