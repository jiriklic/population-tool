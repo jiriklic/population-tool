{
 "cells": [
  {
   "cell_type": "markdown",
   "id": "f0431919-c80a-4f52-bf4e-22454611d75f",
   "metadata": {},
   "source": [
    "# Test notebook"
   ]
  },
  {
   "cell_type": "markdown",
   "id": "a101c1d8-3ed5-49fa-8766-c3528b8d85d7",
   "metadata": {},
   "source": [
    "## Imports"
   ]
  },
  {
   "cell_type": "code",
   "execution_count": 1,
   "id": "058ee495-3a04-43db-a16f-66b3c21ab21b",
   "metadata": {},
   "outputs": [],
   "source": [
    "%load_ext autoreload\n",
    "%autoreload 2"
   ]
  },
  {
   "cell_type": "code",
   "execution_count": 2,
   "id": "dff3e296-74bc-4b6d-9c67-8c5faba7315d",
   "metadata": {},
   "outputs": [
    {
     "name": "stderr",
     "output_type": "stream",
     "text": [
      "2023-03-14 14:13:43.422 \n",
      "  \u001b[33m\u001b[1mWarning:\u001b[0m to view this Streamlit app on a browser, run it with the following\n",
      "  command:\n",
      "\n",
      "    streamlit run /home/daniele/miniconda3/envs/proximity/lib/python3.9/site-packages/ipykernel_launcher.py [ARGUMENTS]\n"
     ]
    }
   ],
   "source": [
    "import folium\n",
    "import streamlit as st\n",
    "import os\n",
    "import matplotlib\n",
    "from rasterstats import zonal_stats\n",
    "import rasterio\n",
    "import requests\n",
    "\n",
    "from src.config_parameters import params\n",
    "from src.utils import *\n",
    "from src.utils_population import *\n",
    "from src.utils_plotting import *"
   ]
  },
  {
   "cell_type": "markdown",
   "id": "c6523f08-59b0-48de-8d1c-9cd8cdede290",
   "metadata": {},
   "source": [
    "## General parameters"
   ]
  },
  {
   "cell_type": "code",
   "execution_count": 3,
   "id": "62cb8e26-ad70-4722-8b3e-aadd69abebe1",
   "metadata": {},
   "outputs": [],
   "source": [
    "verbose = True"
   ]
  },
  {
   "cell_type": "markdown",
   "id": "ec473073-ad4f-4b89-862b-3071e7cf55d2",
   "metadata": {},
   "source": [
    "## User input"
   ]
  },
  {
   "cell_type": "code",
   "execution_count": 4,
   "id": "e08206b6-ce1e-4077-a867-22a1722ca9b3",
   "metadata": {},
   "outputs": [],
   "source": [
    "# Parameters given by the user\n",
    "# gdf_file = \"test_data/mda_isochrones.geojson\"\n",
    "gdf_file = 'test_data/shakeintensity_simpler.zip'\n",
    "data_type = \"constrained\"\n",
    "year = 2020\n",
    "aggregated = True"
   ]
  },
  {
   "cell_type": "markdown",
   "id": "b0db9a1c-d4a5-44ee-82f6-c0098cb47ccb",
   "metadata": {},
   "source": [
    "## Process input data"
   ]
  },
  {
   "cell_type": "code",
   "execution_count": 5,
   "id": "988ec368-3683-483c-bbe4-2c3e668aebd4",
   "metadata": {},
   "outputs": [],
   "source": [
    "# Create geopandas dataframes and prepare starting points\n",
    "gdf = gpd.read_file(gdf_file)\n",
    "\n",
    "if not check_gdf_geometry(gdf):\n",
    "    raise ValueError(\n",
    "                \"The  shapefile contains geometries that are not \"\n",
    "                \"polygons. Check the source data.\"\n",
    "            )"
   ]
  },
  {
   "cell_type": "code",
   "execution_count": 6,
   "id": "0dc53422",
   "metadata": {},
   "outputs": [
    {
     "data": {
      "text/html": [
       "<div>\n",
       "<style scoped>\n",
       "    .dataframe tbody tr th:only-of-type {\n",
       "        vertical-align: middle;\n",
       "    }\n",
       "\n",
       "    .dataframe tbody tr th {\n",
       "        vertical-align: top;\n",
       "    }\n",
       "\n",
       "    .dataframe thead th {\n",
       "        text-align: right;\n",
       "    }\n",
       "</style>\n",
       "<table border=\"1\" class=\"dataframe\">\n",
       "  <thead>\n",
       "    <tr style=\"text-align: right;\">\n",
       "      <th></th>\n",
       "      <th>Name</th>\n",
       "      <th>descriptio</th>\n",
       "      <th>drawOrder</th>\n",
       "      <th>PARAMVALUE</th>\n",
       "      <th>PARAMNUM</th>\n",
       "      <th>geometry</th>\n",
       "    </tr>\n",
       "  </thead>\n",
       "  <tbody>\n",
       "    <tr>\n",
       "      <th>0</th>\n",
       "      <td>MMI 3 Polygon</td>\n",
       "      <td>None</td>\n",
       "      <td>7</td>\n",
       "      <td>II - III (Weak)</td>\n",
       "      <td>3</td>\n",
       "      <td>MULTIPOLYGON Z (((30.12354 29.81667 0.00000, 3...</td>\n",
       "    </tr>\n",
       "    <tr>\n",
       "      <th>1</th>\n",
       "      <td>MMI 4 Polygon</td>\n",
       "      <td>None</td>\n",
       "      <td>6</td>\n",
       "      <td>IV (Light)</td>\n",
       "      <td>4</td>\n",
       "      <td>MULTIPOLYGON Z (((35.22978 29.85000 0.00000, 3...</td>\n",
       "    </tr>\n",
       "    <tr>\n",
       "      <th>2</th>\n",
       "      <td>MMI 5 Polygon</td>\n",
       "      <td>None</td>\n",
       "      <td>5</td>\n",
       "      <td>V (Moderate)</td>\n",
       "      <td>5</td>\n",
       "      <td>MULTIPOLYGON Z (((36.60833 33.35959 0.00000, 3...</td>\n",
       "    </tr>\n",
       "    <tr>\n",
       "      <th>3</th>\n",
       "      <td>MMI 6 Polygon</td>\n",
       "      <td>None</td>\n",
       "      <td>4</td>\n",
       "      <td>VI (Strong)</td>\n",
       "      <td>6</td>\n",
       "      <td>POLYGON Z ((37.34167 35.60558 0.00000, 37.3266...</td>\n",
       "    </tr>\n",
       "    <tr>\n",
       "      <th>4</th>\n",
       "      <td>MMI 7 Polygon</td>\n",
       "      <td>None</td>\n",
       "      <td>2</td>\n",
       "      <td>VII (Very Strong)</td>\n",
       "      <td>7</td>\n",
       "      <td>POLYGON Z ((36.74167 36.67880 0.00000, 36.7367...</td>\n",
       "    </tr>\n",
       "    <tr>\n",
       "      <th>5</th>\n",
       "      <td>MMI 8 Polygon</td>\n",
       "      <td>None</td>\n",
       "      <td>1</td>\n",
       "      <td>VIII (Severe)</td>\n",
       "      <td>8</td>\n",
       "      <td>POLYGON Z ((36.74167 36.94808 0.00000, 36.7400...</td>\n",
       "    </tr>\n",
       "  </tbody>\n",
       "</table>\n",
       "</div>"
      ],
      "text/plain": [
       "            Name descriptio  drawOrder         PARAMVALUE  PARAMNUM  \\\n",
       "0  MMI 3 Polygon       None          7    II - III (Weak)         3   \n",
       "1  MMI 4 Polygon       None          6         IV (Light)         4   \n",
       "2  MMI 5 Polygon       None          5       V (Moderate)         5   \n",
       "3  MMI 6 Polygon       None          4        VI (Strong)         6   \n",
       "4  MMI 7 Polygon       None          2  VII (Very Strong)         7   \n",
       "5  MMI 8 Polygon       None          1      VIII (Severe)         8   \n",
       "\n",
       "                                            geometry  \n",
       "0  MULTIPOLYGON Z (((30.12354 29.81667 0.00000, 3...  \n",
       "1  MULTIPOLYGON Z (((35.22978 29.85000 0.00000, 3...  \n",
       "2  MULTIPOLYGON Z (((36.60833 33.35959 0.00000, 3...  \n",
       "3  POLYGON Z ((37.34167 35.60558 0.00000, 37.3266...  \n",
       "4  POLYGON Z ((36.74167 36.67880 0.00000, 36.7367...  \n",
       "5  POLYGON Z ((36.74167 36.94808 0.00000, 36.7400...  "
      ]
     },
     "execution_count": 6,
     "metadata": {},
     "output_type": "execute_result"
    }
   ],
   "source": [
    "gdf"
   ]
  },
  {
   "cell_type": "markdown",
   "id": "2dd44763-e60a-4189-8eb5-bce44f207111",
   "metadata": {},
   "source": [
    "## Run computation"
   ]
  },
  {
   "cell_type": "code",
   "execution_count": null,
   "id": "7e103780-1221-40d0-9c2d-60a82db23e07",
   "metadata": {},
   "outputs": [
    {
     "name": "stdout",
     "output_type": "stream",
     "text": [
      "Finding intersections with countries...\n",
      "Intersected countries: JOR, CYP, ARM, LBN, SAU, UKR, SYR, AZE, IRN, ROU, RUS, EGY, TUR, PSE, ISR, GRC, GEO, IRQ, KWT.\n",
      "Country: JOR.\n",
      "Downloading raster...\n",
      "Aggregating raster...\n"
     ]
    },
    {
     "name": "stderr",
     "output_type": "stream",
     "text": [
      "/home/daniele/miniconda3/envs/proximity/lib/python3.9/site-packages/rasterstats/io.py:335: NodataWarning: Setting nodata to -999; specify nodata explicitly\n",
      "  warnings.warn(\n"
     ]
    },
    {
     "name": "stdout",
     "output_type": "stream",
     "text": [
      "Country: CYP.\n",
      "Downloading raster...\n",
      "Aggregating raster...\n",
      "Country: ARM.\n",
      "Downloading raster...\n",
      "Aggregating raster...\n",
      "Country: LBN.\n",
      "Downloading raster...\n",
      "Aggregating raster...\n",
      "Country: SAU.\n",
      "Downloading raster...\n",
      "Aggregating raster...\n",
      "Country: UKR.\n",
      "Downloading raster...\n",
      "Aggregating raster...\n",
      "Country: SYR.\n",
      "Downloading raster...\n",
      "Aggregating raster...\n",
      "Country: AZE.\n",
      "Downloading raster...\n",
      "Aggregating raster...\n",
      "Country: IRN.\n",
      "Downloading raster...\n",
      "Aggregating raster...\n"
     ]
    }
   ],
   "source": [
    "%%time\n",
    "# Add population data\n",
    "# gdf = gdf.iloc[:5,]\n",
    "gdf_with_pop = add_population_data(\n",
    "    gdf=gdf,\n",
    "    data_type=data_type,\n",
    "    tif_folder='test_data/pop_data',\n",
    "    data_folder='data',\n",
    "    year=year,\n",
    "    aggregated=aggregated,\n",
    "    clobber=False,\n",
    "    verbose=True,\n",
    "    text_on_streamlit=False,\n",
    "    progress_bar=False,\n",
    ")"
   ]
  },
  {
   "cell_type": "code",
   "execution_count": null,
   "id": "117ed73e",
   "metadata": {},
   "outputs": [],
   "source": [
    "gdf_with_pop"
   ]
  },
  {
   "cell_type": "markdown",
   "id": "e8f599d1",
   "metadata": {},
   "source": [
    "## Plot"
   ]
  },
  {
   "cell_type": "code",
   "execution_count": null,
   "id": "53e4b998",
   "metadata": {},
   "outputs": [],
   "source": [
    "aggregated=aggregated\n",
    "joint=True\n",
    "col_label = 'ADM2_PCODE'\n",
    "legend_title = 'Admin level'\n",
    "plot_title = 'Admin level'\n",
    "\n",
    "fig = plot_pop_data(\n",
    "    gdf=gdf_with_pop, \n",
    "    col_label=col_label,\n",
    "    legend_title=legend_title, \n",
    "    plot_title=plot_title,\n",
    "    aggregated=aggregated,\n",
    "    joint=joint,\n",
    "    cmap_name='viridis'\n",
    "    )\n",
    "\n",
    "fig.show()"
   ]
  },
  {
   "cell_type": "code",
   "execution_count": null,
   "id": "fb8fd643",
   "metadata": {},
   "outputs": [],
   "source": []
  }
 ],
 "metadata": {
  "kernelspec": {
   "display_name": "Python [conda env:proximity]",
   "language": "python",
   "name": "conda-env-proximity-py"
  },
  "language_info": {
   "codemirror_mode": {
    "name": "ipython",
    "version": 3
   },
   "file_extension": ".py",
   "mimetype": "text/x-python",
   "name": "python",
   "nbconvert_exporter": "python",
   "pygments_lexer": "ipython3",
   "version": "3.9.16"
  }
 },
 "nbformat": 4,
 "nbformat_minor": 5
}
