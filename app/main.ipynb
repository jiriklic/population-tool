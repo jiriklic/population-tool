{
 "cells": [
  {
   "cell_type": "markdown",
   "id": "f0431919-c80a-4f52-bf4e-22454611d75f",
   "metadata": {},
   "source": [
    "# Test notebook"
   ]
  },
  {
   "cell_type": "markdown",
   "id": "a101c1d8-3ed5-49fa-8766-c3528b8d85d7",
   "metadata": {},
   "source": [
    "## Imports"
   ]
  },
  {
   "cell_type": "code",
   "execution_count": 1,
   "id": "058ee495-3a04-43db-a16f-66b3c21ab21b",
   "metadata": {},
   "outputs": [],
   "source": [
    "%load_ext autoreload\n",
    "%autoreload 2"
   ]
  },
  {
   "cell_type": "code",
   "execution_count": 2,
   "id": "dff3e296-74bc-4b6d-9c67-8c5faba7315d",
   "metadata": {},
   "outputs": [
    {
     "name": "stderr",
     "output_type": "stream",
     "text": [
      "2023-03-20 13:46:39.651 \n",
      "  \u001b[33m\u001b[1mWarning:\u001b[0m to view this Streamlit app on a browser, run it with the following\n",
      "  command:\n",
      "\n",
      "    streamlit run /home/daniele/miniconda3/envs/proximity/lib/python3.9/site-packages/ipykernel_launcher.py [ARGUMENTS]\n"
     ]
    }
   ],
   "source": [
    "import folium\n",
    "import streamlit as st\n",
    "import os\n",
    "import matplotlib\n",
    "from rasterstats import zonal_stats\n",
    "import rasterio\n",
    "import requests\n",
    "\n",
    "from src.utils import *\n",
    "from src.utils_population import *\n",
    "from src.utils_plotting import *"
   ]
  },
  {
   "cell_type": "markdown",
   "id": "c6523f08-59b0-48de-8d1c-9cd8cdede290",
   "metadata": {},
   "source": [
    "## General parameters"
   ]
  },
  {
   "cell_type": "code",
   "execution_count": 3,
   "id": "62cb8e26-ad70-4722-8b3e-aadd69abebe1",
   "metadata": {},
   "outputs": [],
   "source": [
    "verbose = True"
   ]
  },
  {
   "cell_type": "markdown",
   "id": "ec473073-ad4f-4b89-862b-3071e7cf55d2",
   "metadata": {},
   "source": [
    "## User input"
   ]
  },
  {
   "cell_type": "code",
   "execution_count": 4,
   "id": "e08206b6-ce1e-4077-a867-22a1722ca9b3",
   "metadata": {},
   "outputs": [],
   "source": [
    "# Parameters given by the user\n",
    "# gdf_file = \"test_data/mda_isochrones.geojson\"\n",
    "gdf_file = 'test_data/mda_isochrones.zip'\n",
    "# gdf_file = 'test_data/shakeintensity_complex.zip'\n",
    "data_type = \"UNadj_constrained\"\n",
    "year = 2020\n",
    "aggregated = False"
   ]
  },
  {
   "cell_type": "markdown",
   "id": "b0db9a1c-d4a5-44ee-82f6-c0098cb47ccb",
   "metadata": {},
   "source": [
    "## Process input data"
   ]
  },
  {
   "cell_type": "code",
   "execution_count": 5,
   "id": "988ec368-3683-483c-bbe4-2c3e668aebd4",
   "metadata": {},
   "outputs": [],
   "source": [
    "# Create geopandas dataframes and prepare starting points\n",
    "gdf, error = load_gdf(gdf_file)\n",
    "\n",
    "if error:\n",
    "    raise ValueError(error)\n",
    "    \n",
    "gdf = gdf.iloc[:5, ]"
   ]
  },
  {
   "cell_type": "code",
   "execution_count": 6,
   "id": "ff1cba1b",
   "metadata": {},
   "outputs": [
    {
     "data": {
      "text/html": [
       "<div>\n",
       "<style scoped>\n",
       "    .dataframe tbody tr th:only-of-type {\n",
       "        vertical-align: middle;\n",
       "    }\n",
       "\n",
       "    .dataframe tbody tr th {\n",
       "        vertical-align: top;\n",
       "    }\n",
       "\n",
       "    .dataframe thead th {\n",
       "        text-align: right;\n",
       "    }\n",
       "</style>\n",
       "<table border=\"1\" class=\"dataframe\">\n",
       "  <thead>\n",
       "    <tr style=\"text-align: right;\">\n",
       "      <th></th>\n",
       "      <th>type</th>\n",
       "      <th>value</th>\n",
       "      <th>total_pop</th>\n",
       "      <th>geometry_t</th>\n",
       "      <th>name</th>\n",
       "      <th>geometry</th>\n",
       "    </tr>\n",
       "  </thead>\n",
       "  <tbody>\n",
       "    <tr>\n",
       "      <th>0</th>\n",
       "      <td>Feature</td>\n",
       "      <td>900.0</td>\n",
       "      <td>364045.0</td>\n",
       "      <td>Polygon</td>\n",
       "      <td>Juv</td>\n",
       "      <td>POLYGON ((28.77104 47.00202, 28.77110 47.00332...</td>\n",
       "    </tr>\n",
       "    <tr>\n",
       "      <th>1</th>\n",
       "      <td>Feature</td>\n",
       "      <td>1800.0</td>\n",
       "      <td>832073.0</td>\n",
       "      <td>Polygon</td>\n",
       "      <td>Juv</td>\n",
       "      <td>POLYGON ((28.62525 47.01751, 28.62700 47.02066...</td>\n",
       "    </tr>\n",
       "    <tr>\n",
       "      <th>2</th>\n",
       "      <td>Feature</td>\n",
       "      <td>2700.0</td>\n",
       "      <td>1173377.0</td>\n",
       "      <td>Polygon</td>\n",
       "      <td>Juv</td>\n",
       "      <td>POLYGON ((28.43041 47.13080, 28.43098 47.13081...</td>\n",
       "    </tr>\n",
       "    <tr>\n",
       "      <th>3</th>\n",
       "      <td>Feature</td>\n",
       "      <td>3600.0</td>\n",
       "      <td>1335679.0</td>\n",
       "      <td>Polygon</td>\n",
       "      <td>Juv</td>\n",
       "      <td>POLYGON ((28.22984 47.11718, 28.23101 47.12058...</td>\n",
       "    </tr>\n",
       "    <tr>\n",
       "      <th>4</th>\n",
       "      <td>Feature</td>\n",
       "      <td>900.0</td>\n",
       "      <td>353627.0</td>\n",
       "      <td>Polygon</td>\n",
       "      <td>Institutul Mamei ?i Copilului</td>\n",
       "      <td>POLYGON ((28.77360 47.00231, 28.77362 47.00250...</td>\n",
       "    </tr>\n",
       "  </tbody>\n",
       "</table>\n",
       "</div>"
      ],
      "text/plain": [
       "      type   value  total_pop geometry_t                           name  \\\n",
       "0  Feature   900.0   364045.0    Polygon                            Juv   \n",
       "1  Feature  1800.0   832073.0    Polygon                            Juv   \n",
       "2  Feature  2700.0  1173377.0    Polygon                            Juv   \n",
       "3  Feature  3600.0  1335679.0    Polygon                            Juv   \n",
       "4  Feature   900.0   353627.0    Polygon  Institutul Mamei ?i Copilului   \n",
       "\n",
       "                                            geometry  \n",
       "0  POLYGON ((28.77104 47.00202, 28.77110 47.00332...  \n",
       "1  POLYGON ((28.62525 47.01751, 28.62700 47.02066...  \n",
       "2  POLYGON ((28.43041 47.13080, 28.43098 47.13081...  \n",
       "3  POLYGON ((28.22984 47.11718, 28.23101 47.12058...  \n",
       "4  POLYGON ((28.77360 47.00231, 28.77362 47.00250...  "
      ]
     },
     "execution_count": 6,
     "metadata": {},
     "output_type": "execute_result"
    }
   ],
   "source": [
    "gdf"
   ]
  },
  {
   "cell_type": "markdown",
   "id": "2dd44763-e60a-4189-8eb5-bce44f207111",
   "metadata": {},
   "source": [
    "## Run computation"
   ]
  },
  {
   "cell_type": "code",
   "execution_count": 8,
   "id": "0e3e78ff",
   "metadata": {},
   "outputs": [],
   "source": [
    "ee.Initialize()"
   ]
  },
  {
   "cell_type": "code",
   "execution_count": 9,
   "id": "4edb6ecf",
   "metadata": {},
   "outputs": [
    {
     "name": "stdout",
     "output_type": "stream",
     "text": [
      "Retrieving data from Google Earth Engine...\n",
      "Band (1/36): M_0\n",
      "Band (2/36): M_1\n",
      "Band (3/36): M_5\n",
      "Band (4/36): M_10\n",
      "Band (5/36): M_15\n",
      "Band (6/36): M_20\n",
      "Band (7/36): M_25\n",
      "Band (8/36): M_30\n",
      "Band (9/36): M_35\n",
      "Band (10/36): M_40\n",
      "Band (11/36): M_45\n",
      "Band (12/36): M_50\n",
      "Band (13/36): M_55\n",
      "Band (14/36): M_60\n",
      "Band (15/36): M_65\n",
      "Band (16/36): M_70\n",
      "Band (17/36): M_75\n",
      "Band (18/36): M_80\n",
      "Band (19/36): F_0\n",
      "Band (20/36): F_1\n",
      "Band (21/36): F_5\n",
      "Band (22/36): F_10\n",
      "Band (23/36): F_15\n",
      "Band (24/36): F_20\n",
      "Band (25/36): F_25\n",
      "Band (26/36): F_30\n",
      "Band (27/36): F_35\n",
      "Band (28/36): F_40\n",
      "Band (29/36): F_45\n",
      "Band (30/36): F_50\n",
      "Band (31/36): F_55\n",
      "Band (32/36): F_60\n",
      "Band (33/36): F_65\n",
      "Band (34/36): F_70\n",
      "Band (35/36): F_75\n",
      "Band (36/36): F_80\n",
      "Done!\n",
      "CPU times: user 935 ms, sys: 31.8 ms, total: 967 ms\n",
      "Wall time: 35.7 s\n"
     ]
    }
   ],
   "source": [
    "%%time\n",
    "\n",
    "gdf_with_pop = add_population_data(\n",
    "    gdf=gdf,\n",
    "    data_type=data_type,\n",
    "    tif_folder='test_data/pop_data',\n",
    "    data_folder='data',\n",
    "    year=year,\n",
    "    aggregated=aggregated,\n",
    "    clobber=True,\n",
    "    verbose=True,\n",
    "    text_on_streamlit=False,\n",
    "    progress_bar=False,\n",
    ")"
   ]
  },
  {
   "cell_type": "code",
   "execution_count": 10,
   "id": "117ed73e",
   "metadata": {},
   "outputs": [
    {
     "data": {
      "text/html": [
       "<div>\n",
       "<style scoped>\n",
       "    .dataframe tbody tr th:only-of-type {\n",
       "        vertical-align: middle;\n",
       "    }\n",
       "\n",
       "    .dataframe tbody tr th {\n",
       "        vertical-align: top;\n",
       "    }\n",
       "\n",
       "    .dataframe thead th {\n",
       "        text-align: right;\n",
       "    }\n",
       "</style>\n",
       "<table border=\"1\" class=\"dataframe\">\n",
       "  <thead>\n",
       "    <tr style=\"text-align: right;\">\n",
       "      <th></th>\n",
       "      <th>type</th>\n",
       "      <th>value</th>\n",
       "      <th>total_pop</th>\n",
       "      <th>geometry_t</th>\n",
       "      <th>name</th>\n",
       "      <th>geometry</th>\n",
       "      <th>pop_f_00</th>\n",
       "      <th>pop_f_01</th>\n",
       "      <th>pop_f_05</th>\n",
       "      <th>pop_f_10</th>\n",
       "      <th>...</th>\n",
       "      <th>pop_m_35</th>\n",
       "      <th>pop_m_40</th>\n",
       "      <th>pop_m_45</th>\n",
       "      <th>pop_m_50</th>\n",
       "      <th>pop_m_55</th>\n",
       "      <th>pop_m_60</th>\n",
       "      <th>pop_m_65</th>\n",
       "      <th>pop_m_70</th>\n",
       "      <th>pop_m_75</th>\n",
       "      <th>pop_m_80</th>\n",
       "    </tr>\n",
       "  </thead>\n",
       "  <tbody>\n",
       "    <tr>\n",
       "      <th>0</th>\n",
       "      <td>Feature</td>\n",
       "      <td>900.0</td>\n",
       "      <td>364045.0</td>\n",
       "      <td>Polygon</td>\n",
       "      <td>Juv</td>\n",
       "      <td>POLYGON ((28.77104 47.00202, 28.77110 47.00332...</td>\n",
       "      <td>1498</td>\n",
       "      <td>6860</td>\n",
       "      <td>10333</td>\n",
       "      <td>9556</td>\n",
       "      <td>...</td>\n",
       "      <td>15126</td>\n",
       "      <td>13048</td>\n",
       "      <td>11868</td>\n",
       "      <td>11641</td>\n",
       "      <td>11919</td>\n",
       "      <td>11547</td>\n",
       "      <td>8887</td>\n",
       "      <td>3960</td>\n",
       "      <td>2547</td>\n",
       "      <td>2503</td>\n",
       "    </tr>\n",
       "    <tr>\n",
       "      <th>1</th>\n",
       "      <td>Feature</td>\n",
       "      <td>1800.0</td>\n",
       "      <td>832073.0</td>\n",
       "      <td>Polygon</td>\n",
       "      <td>Juv</td>\n",
       "      <td>POLYGON ((28.62525 47.01751, 28.62700 47.02066...</td>\n",
       "      <td>3482</td>\n",
       "      <td>15942</td>\n",
       "      <td>23846</td>\n",
       "      <td>22140</td>\n",
       "      <td>...</td>\n",
       "      <td>34984</td>\n",
       "      <td>29805</td>\n",
       "      <td>26815</td>\n",
       "      <td>25992</td>\n",
       "      <td>26976</td>\n",
       "      <td>25615</td>\n",
       "      <td>20139</td>\n",
       "      <td>9032</td>\n",
       "      <td>5855</td>\n",
       "      <td>5753</td>\n",
       "    </tr>\n",
       "    <tr>\n",
       "      <th>2</th>\n",
       "      <td>Feature</td>\n",
       "      <td>2700.0</td>\n",
       "      <td>1173377.0</td>\n",
       "      <td>Polygon</td>\n",
       "      <td>Juv</td>\n",
       "      <td>POLYGON ((28.43041 47.13080, 28.43098 47.13081...</td>\n",
       "      <td>4419</td>\n",
       "      <td>20231</td>\n",
       "      <td>30112</td>\n",
       "      <td>28094</td>\n",
       "      <td>...</td>\n",
       "      <td>44409</td>\n",
       "      <td>37613</td>\n",
       "      <td>33757</td>\n",
       "      <td>32102</td>\n",
       "      <td>33838</td>\n",
       "      <td>31754</td>\n",
       "      <td>25619</td>\n",
       "      <td>11499</td>\n",
       "      <td>7562</td>\n",
       "      <td>7429</td>\n",
       "    </tr>\n",
       "    <tr>\n",
       "      <th>3</th>\n",
       "      <td>Feature</td>\n",
       "      <td>3600.0</td>\n",
       "      <td>1335679.0</td>\n",
       "      <td>Polygon</td>\n",
       "      <td>Juv</td>\n",
       "      <td>POLYGON ((28.22984 47.11718, 28.23101 47.12058...</td>\n",
       "      <td>5488</td>\n",
       "      <td>25125</td>\n",
       "      <td>37207</td>\n",
       "      <td>34854</td>\n",
       "      <td>...</td>\n",
       "      <td>54889</td>\n",
       "      <td>46423</td>\n",
       "      <td>41576</td>\n",
       "      <td>38927</td>\n",
       "      <td>41867</td>\n",
       "      <td>38822</td>\n",
       "      <td>31989</td>\n",
       "      <td>14289</td>\n",
       "      <td>9574</td>\n",
       "      <td>9406</td>\n",
       "    </tr>\n",
       "    <tr>\n",
       "      <th>4</th>\n",
       "      <td>Feature</td>\n",
       "      <td>900.0</td>\n",
       "      <td>353627.0</td>\n",
       "      <td>Polygon</td>\n",
       "      <td>Institutul Mamei ?i Copilului</td>\n",
       "      <td>POLYGON ((28.77360 47.00231, 28.77362 47.00250...</td>\n",
       "      <td>1454</td>\n",
       "      <td>6659</td>\n",
       "      <td>10031</td>\n",
       "      <td>9276</td>\n",
       "      <td>...</td>\n",
       "      <td>14683</td>\n",
       "      <td>12667</td>\n",
       "      <td>11522</td>\n",
       "      <td>11303</td>\n",
       "      <td>11572</td>\n",
       "      <td>11212</td>\n",
       "      <td>8628</td>\n",
       "      <td>3845</td>\n",
       "      <td>2473</td>\n",
       "      <td>2430</td>\n",
       "    </tr>\n",
       "  </tbody>\n",
       "</table>\n",
       "<p>5 rows × 42 columns</p>\n",
       "</div>"
      ],
      "text/plain": [
       "      type   value  total_pop geometry_t                           name  \\\n",
       "0  Feature   900.0   364045.0    Polygon                            Juv   \n",
       "1  Feature  1800.0   832073.0    Polygon                            Juv   \n",
       "2  Feature  2700.0  1173377.0    Polygon                            Juv   \n",
       "3  Feature  3600.0  1335679.0    Polygon                            Juv   \n",
       "4  Feature   900.0   353627.0    Polygon  Institutul Mamei ?i Copilului   \n",
       "\n",
       "                                            geometry  pop_f_00  pop_f_01  \\\n",
       "0  POLYGON ((28.77104 47.00202, 28.77110 47.00332...      1498      6860   \n",
       "1  POLYGON ((28.62525 47.01751, 28.62700 47.02066...      3482     15942   \n",
       "2  POLYGON ((28.43041 47.13080, 28.43098 47.13081...      4419     20231   \n",
       "3  POLYGON ((28.22984 47.11718, 28.23101 47.12058...      5488     25125   \n",
       "4  POLYGON ((28.77360 47.00231, 28.77362 47.00250...      1454      6659   \n",
       "\n",
       "   pop_f_05  pop_f_10  ...  pop_m_35  pop_m_40  pop_m_45  pop_m_50  pop_m_55  \\\n",
       "0     10333      9556  ...     15126     13048     11868     11641     11919   \n",
       "1     23846     22140  ...     34984     29805     26815     25992     26976   \n",
       "2     30112     28094  ...     44409     37613     33757     32102     33838   \n",
       "3     37207     34854  ...     54889     46423     41576     38927     41867   \n",
       "4     10031      9276  ...     14683     12667     11522     11303     11572   \n",
       "\n",
       "   pop_m_60  pop_m_65  pop_m_70  pop_m_75  pop_m_80  \n",
       "0     11547      8887      3960      2547      2503  \n",
       "1     25615     20139      9032      5855      5753  \n",
       "2     31754     25619     11499      7562      7429  \n",
       "3     38822     31989     14289      9574      9406  \n",
       "4     11212      8628      3845      2473      2430  \n",
       "\n",
       "[5 rows x 42 columns]"
      ]
     },
     "execution_count": 10,
     "metadata": {},
     "output_type": "execute_result"
    }
   ],
   "source": [
    "gdf_with_pop"
   ]
  },
  {
   "cell_type": "markdown",
   "id": "e8f599d1",
   "metadata": {},
   "source": [
    "## Plot"
   ]
  },
  {
   "cell_type": "code",
   "execution_count": 30,
   "id": "53e4b998",
   "metadata": {},
   "outputs": [
    {
     "data": {
      "application/vnd.plotly.v1+json": {
       "config": {
        "plotlyServerURL": "https://plot.ly"
       },
       "data": [
        {
         "hoverinfo": "text",
         "hovertext": [
          1631,
          7407,
          10353,
          9896,
          8055,
          11144,
          16537,
          19271,
          15126,
          13048,
          11868,
          11641,
          11919,
          11547,
          8887,
          3960,
          2547,
          2503
         ],
         "marker": {
          "color": "powderblue"
         },
         "meta": 900,
         "name": "Men",
         "orientation": "h",
         "type": "bar",
         "visible": true,
         "width": 3,
         "x": [
          1631,
          7407,
          10353,
          9896,
          8055,
          11144,
          16537,
          19271,
          15126,
          13048,
          11868,
          11641,
          11919,
          11547,
          8887,
          3960,
          2547,
          2503
         ],
         "y": [
          0,
          1,
          5,
          10,
          15,
          20,
          25,
          30,
          35,
          40,
          45,
          50,
          55,
          60,
          65,
          70,
          75,
          80
         ]
        },
        {
         "hoverinfo": "text",
         "hovertext": [
          1498,
          6860,
          10333,
          9556,
          7548,
          9468,
          14508,
          17806,
          15118,
          13517,
          12601,
          11583,
          14117,
          16337,
          13357,
          6239,
          5033,
          6021
         ],
         "marker": {
          "color": "seagreen"
         },
         "meta": 900,
         "name": "Women",
         "orientation": "h",
         "type": "bar",
         "visible": true,
         "width": 3,
         "x": [
          -1498,
          -6860,
          -10333,
          -9556,
          -7548,
          -9468,
          -14508,
          -17806,
          -15118,
          -13517,
          -12601,
          -11583,
          -14117,
          -16337,
          -13357,
          -6239,
          -5033,
          -6021
         ],
         "y": [
          0,
          1,
          5,
          10,
          15,
          20,
          25,
          30,
          35,
          40,
          45,
          50,
          55,
          60,
          65,
          70,
          75,
          80
         ]
        },
        {
         "hoverinfo": "text",
         "hovertext": [
          3793,
          17224,
          24079,
          23032,
          18805,
          25312,
          37341,
          43960,
          34984,
          29805,
          26815,
          25992,
          26976,
          25615,
          20139,
          9032,
          5855,
          5753
         ],
         "marker": {
          "color": "powderblue"
         },
         "meta": 1800,
         "name": "Men",
         "orientation": "h",
         "type": "bar",
         "visible": false,
         "width": 3,
         "x": [
          3793,
          17224,
          24079,
          23032,
          18805,
          25312,
          37341,
          43960,
          34984,
          29805,
          26815,
          25992,
          26976,
          25615,
          20139,
          9032,
          5855,
          5753
         ],
         "y": [
          0,
          1,
          5,
          10,
          15,
          20,
          25,
          30,
          35,
          40,
          45,
          50,
          55,
          60,
          65,
          70,
          75,
          80
         ]
        },
        {
         "hoverinfo": "text",
         "hovertext": [
          3482,
          15942,
          23846,
          22140,
          17478,
          21538,
          33066,
          41058,
          34976,
          30970,
          28433,
          26049,
          31952,
          36074,
          30201,
          14068,
          11299,
          13518
         ],
         "marker": {
          "color": "seagreen"
         },
         "meta": 1800,
         "name": "Women",
         "orientation": "h",
         "type": "bar",
         "visible": false,
         "width": 3,
         "x": [
          -3482,
          -15942,
          -23846,
          -22140,
          -17478,
          -21538,
          -33066,
          -41058,
          -34976,
          -30970,
          -28433,
          -26049,
          -31952,
          -36074,
          -30201,
          -14068,
          -11299,
          -13518
         ],
         "y": [
          0,
          1,
          5,
          10,
          15,
          20,
          25,
          30,
          35,
          40,
          45,
          50,
          55,
          60,
          65,
          70,
          75,
          80
         ]
        },
        {
         "hoverinfo": "text",
         "hovertext": [
          4817,
          21871,
          30612,
          29304,
          23942,
          31551,
          46097,
          54702,
          44409,
          37613,
          33757,
          32102,
          33838,
          31754,
          25619,
          11499,
          7562,
          7429
         ],
         "marker": {
          "color": "powderblue"
         },
         "meta": 2700,
         "name": "Men",
         "orientation": "h",
         "type": "bar",
         "visible": false,
         "width": 3,
         "x": [
          4817,
          21871,
          30612,
          29304,
          23942,
          31551,
          46097,
          54702,
          44409,
          37613,
          33757,
          32102,
          33838,
          31754,
          25619,
          11499,
          7562,
          7429
         ],
         "y": [
          0,
          1,
          5,
          10,
          15,
          20,
          25,
          30,
          35,
          40,
          45,
          50,
          55,
          60,
          65,
          70,
          75,
          80
         ]
        },
        {
         "hoverinfo": "text",
         "hovertext": [
          4419,
          20231,
          30112,
          28094,
          22064,
          27040,
          41394,
          51958,
          44448,
          39175,
          35642,
          32665,
          40095,
          44383,
          38284,
          17762,
          14325,
          17139
         ],
         "marker": {
          "color": "seagreen"
         },
         "meta": 2700,
         "name": "Women",
         "orientation": "h",
         "type": "bar",
         "visible": false,
         "width": 3,
         "x": [
          -4419,
          -20231,
          -30112,
          -28094,
          -22064,
          -27040,
          -41394,
          -51958,
          -44448,
          -39175,
          -35642,
          -32665,
          -40095,
          -44383,
          -38284,
          -17762,
          -14325,
          -17139
         ],
         "y": [
          0,
          1,
          5,
          10,
          15,
          20,
          25,
          30,
          35,
          40,
          45,
          50,
          55,
          60,
          65,
          70,
          75,
          80
         ]
        },
        {
         "hoverinfo": "text",
         "hovertext": [
          5938,
          26965,
          37790,
          36122,
          29581,
          38398,
          55676,
          66667,
          54889,
          46423,
          41576,
          38927,
          41867,
          38822,
          31989,
          14289,
          9574,
          9406
         ],
         "marker": {
          "color": "powderblue"
         },
         "meta": 3600,
         "name": "Men",
         "orientation": "h",
         "type": "bar",
         "visible": false,
         "width": 3,
         "x": [
          5938,
          26965,
          37790,
          36122,
          29581,
          38398,
          55676,
          66667,
          54889,
          46423,
          41576,
          38927,
          41867,
          38822,
          31989,
          14289,
          9574,
          9406
         ],
         "y": [
          0,
          1,
          5,
          10,
          15,
          20,
          25,
          30,
          35,
          40,
          45,
          50,
          55,
          60,
          65,
          70,
          75,
          80
         ]
        },
        {
         "hoverinfo": "text",
         "hovertext": [
          5488,
          25125,
          37207,
          34854,
          27310,
          33438,
          50955,
          64555,
          55488,
          48783,
          44205,
          40512,
          50004,
          54175,
          47884,
          22121,
          17977,
          21508
         ],
         "marker": {
          "color": "seagreen"
         },
         "meta": 3600,
         "name": "Women",
         "orientation": "h",
         "type": "bar",
         "visible": false,
         "width": 3,
         "x": [
          -5488,
          -25125,
          -37207,
          -34854,
          -27310,
          -33438,
          -50955,
          -64555,
          -55488,
          -48783,
          -44205,
          -40512,
          -50004,
          -54175,
          -47884,
          -22121,
          -17977,
          -21508
         ],
         "y": [
          0,
          1,
          5,
          10,
          15,
          20,
          25,
          30,
          35,
          40,
          45,
          50,
          55,
          60,
          65,
          70,
          75,
          80
         ]
        },
        {
         "hoverinfo": "text",
         "hovertext": [
          1583,
          7190,
          10050,
          9606,
          7818,
          10819,
          16055,
          18708,
          14683,
          12667,
          11522,
          11303,
          11572,
          11212,
          8628,
          3845,
          2473,
          2430
         ],
         "marker": {
          "color": "powderblue"
         },
         "meta": 900,
         "name": "Men",
         "orientation": "h",
         "type": "bar",
         "visible": false,
         "width": 3,
         "x": [
          1583,
          7190,
          10050,
          9606,
          7818,
          10819,
          16055,
          18708,
          14683,
          12667,
          11522,
          11303,
          11572,
          11212,
          8628,
          3845,
          2473,
          2430
         ],
         "y": [
          0,
          1,
          5,
          10,
          15,
          20,
          25,
          30,
          35,
          40,
          45,
          50,
          55,
          60,
          65,
          70,
          75,
          80
         ]
        },
        {
         "hoverinfo": "text",
         "hovertext": [
          1454,
          6659,
          10031,
          9276,
          7327,
          9191,
          14085,
          17285,
          14676,
          13122,
          12234,
          11246,
          13706,
          15863,
          12968,
          6057,
          4886,
          5846
         ],
         "marker": {
          "color": "seagreen"
         },
         "meta": 900,
         "name": "Women",
         "orientation": "h",
         "type": "bar",
         "visible": false,
         "width": 3,
         "x": [
          -1454,
          -6659,
          -10031,
          -9276,
          -7327,
          -9191,
          -14085,
          -17285,
          -14676,
          -13122,
          -12234,
          -11246,
          -13706,
          -15863,
          -12968,
          -6057,
          -4886,
          -5846
         ],
         "y": [
          0,
          1,
          5,
          10,
          15,
          20,
          25,
          30,
          35,
          40,
          45,
          50,
          55,
          60,
          65,
          70,
          75,
          80
         ]
        }
       ],
       "layout": {
        "barmode": "overlay",
        "template": {
         "data": {
          "bar": [
           {
            "error_x": {
             "color": "rgb(51,51,51)"
            },
            "error_y": {
             "color": "rgb(51,51,51)"
            },
            "marker": {
             "line": {
              "color": "rgb(237,237,237)",
              "width": 0.5
             },
             "pattern": {
              "fillmode": "overlay",
              "size": 10,
              "solidity": 0.2
             }
            },
            "type": "bar"
           }
          ],
          "barpolar": [
           {
            "marker": {
             "line": {
              "color": "rgb(237,237,237)",
              "width": 0.5
             },
             "pattern": {
              "fillmode": "overlay",
              "size": 10,
              "solidity": 0.2
             }
            },
            "type": "barpolar"
           }
          ],
          "carpet": [
           {
            "aaxis": {
             "endlinecolor": "rgb(51,51,51)",
             "gridcolor": "white",
             "linecolor": "white",
             "minorgridcolor": "white",
             "startlinecolor": "rgb(51,51,51)"
            },
            "baxis": {
             "endlinecolor": "rgb(51,51,51)",
             "gridcolor": "white",
             "linecolor": "white",
             "minorgridcolor": "white",
             "startlinecolor": "rgb(51,51,51)"
            },
            "type": "carpet"
           }
          ],
          "choropleth": [
           {
            "colorbar": {
             "outlinewidth": 0,
             "tickcolor": "rgb(237,237,237)",
             "ticklen": 6,
             "ticks": "inside"
            },
            "type": "choropleth"
           }
          ],
          "contour": [
           {
            "colorbar": {
             "outlinewidth": 0,
             "tickcolor": "rgb(237,237,237)",
             "ticklen": 6,
             "ticks": "inside"
            },
            "colorscale": [
             [
              0,
              "rgb(20,44,66)"
             ],
             [
              1,
              "rgb(90,179,244)"
             ]
            ],
            "type": "contour"
           }
          ],
          "contourcarpet": [
           {
            "colorbar": {
             "outlinewidth": 0,
             "tickcolor": "rgb(237,237,237)",
             "ticklen": 6,
             "ticks": "inside"
            },
            "type": "contourcarpet"
           }
          ],
          "heatmap": [
           {
            "colorbar": {
             "outlinewidth": 0,
             "tickcolor": "rgb(237,237,237)",
             "ticklen": 6,
             "ticks": "inside"
            },
            "colorscale": [
             [
              0,
              "rgb(20,44,66)"
             ],
             [
              1,
              "rgb(90,179,244)"
             ]
            ],
            "type": "heatmap"
           }
          ],
          "heatmapgl": [
           {
            "colorbar": {
             "outlinewidth": 0,
             "tickcolor": "rgb(237,237,237)",
             "ticklen": 6,
             "ticks": "inside"
            },
            "colorscale": [
             [
              0,
              "rgb(20,44,66)"
             ],
             [
              1,
              "rgb(90,179,244)"
             ]
            ],
            "type": "heatmapgl"
           }
          ],
          "histogram": [
           {
            "marker": {
             "pattern": {
              "fillmode": "overlay",
              "size": 10,
              "solidity": 0.2
             }
            },
            "type": "histogram"
           }
          ],
          "histogram2d": [
           {
            "colorbar": {
             "outlinewidth": 0,
             "tickcolor": "rgb(237,237,237)",
             "ticklen": 6,
             "ticks": "inside"
            },
            "colorscale": [
             [
              0,
              "rgb(20,44,66)"
             ],
             [
              1,
              "rgb(90,179,244)"
             ]
            ],
            "type": "histogram2d"
           }
          ],
          "histogram2dcontour": [
           {
            "colorbar": {
             "outlinewidth": 0,
             "tickcolor": "rgb(237,237,237)",
             "ticklen": 6,
             "ticks": "inside"
            },
            "colorscale": [
             [
              0,
              "rgb(20,44,66)"
             ],
             [
              1,
              "rgb(90,179,244)"
             ]
            ],
            "type": "histogram2dcontour"
           }
          ],
          "mesh3d": [
           {
            "colorbar": {
             "outlinewidth": 0,
             "tickcolor": "rgb(237,237,237)",
             "ticklen": 6,
             "ticks": "inside"
            },
            "type": "mesh3d"
           }
          ],
          "parcoords": [
           {
            "line": {
             "colorbar": {
              "outlinewidth": 0,
              "tickcolor": "rgb(237,237,237)",
              "ticklen": 6,
              "ticks": "inside"
             }
            },
            "type": "parcoords"
           }
          ],
          "pie": [
           {
            "automargin": true,
            "type": "pie"
           }
          ],
          "scatter": [
           {
            "fillpattern": {
             "fillmode": "overlay",
             "size": 10,
             "solidity": 0.2
            },
            "type": "scatter"
           }
          ],
          "scatter3d": [
           {
            "line": {
             "colorbar": {
              "outlinewidth": 0,
              "tickcolor": "rgb(237,237,237)",
              "ticklen": 6,
              "ticks": "inside"
             }
            },
            "marker": {
             "colorbar": {
              "outlinewidth": 0,
              "tickcolor": "rgb(237,237,237)",
              "ticklen": 6,
              "ticks": "inside"
             }
            },
            "type": "scatter3d"
           }
          ],
          "scattercarpet": [
           {
            "marker": {
             "colorbar": {
              "outlinewidth": 0,
              "tickcolor": "rgb(237,237,237)",
              "ticklen": 6,
              "ticks": "inside"
             }
            },
            "type": "scattercarpet"
           }
          ],
          "scattergeo": [
           {
            "marker": {
             "colorbar": {
              "outlinewidth": 0,
              "tickcolor": "rgb(237,237,237)",
              "ticklen": 6,
              "ticks": "inside"
             }
            },
            "type": "scattergeo"
           }
          ],
          "scattergl": [
           {
            "marker": {
             "colorbar": {
              "outlinewidth": 0,
              "tickcolor": "rgb(237,237,237)",
              "ticklen": 6,
              "ticks": "inside"
             }
            },
            "type": "scattergl"
           }
          ],
          "scattermapbox": [
           {
            "marker": {
             "colorbar": {
              "outlinewidth": 0,
              "tickcolor": "rgb(237,237,237)",
              "ticklen": 6,
              "ticks": "inside"
             }
            },
            "type": "scattermapbox"
           }
          ],
          "scatterpolar": [
           {
            "marker": {
             "colorbar": {
              "outlinewidth": 0,
              "tickcolor": "rgb(237,237,237)",
              "ticklen": 6,
              "ticks": "inside"
             }
            },
            "type": "scatterpolar"
           }
          ],
          "scatterpolargl": [
           {
            "marker": {
             "colorbar": {
              "outlinewidth": 0,
              "tickcolor": "rgb(237,237,237)",
              "ticklen": 6,
              "ticks": "inside"
             }
            },
            "type": "scatterpolargl"
           }
          ],
          "scatterternary": [
           {
            "marker": {
             "colorbar": {
              "outlinewidth": 0,
              "tickcolor": "rgb(237,237,237)",
              "ticklen": 6,
              "ticks": "inside"
             }
            },
            "type": "scatterternary"
           }
          ],
          "surface": [
           {
            "colorbar": {
             "outlinewidth": 0,
             "tickcolor": "rgb(237,237,237)",
             "ticklen": 6,
             "ticks": "inside"
            },
            "colorscale": [
             [
              0,
              "rgb(20,44,66)"
             ],
             [
              1,
              "rgb(90,179,244)"
             ]
            ],
            "type": "surface"
           }
          ],
          "table": [
           {
            "cells": {
             "fill": {
              "color": "rgb(237,237,237)"
             },
             "line": {
              "color": "white"
             }
            },
            "header": {
             "fill": {
              "color": "rgb(217,217,217)"
             },
             "line": {
              "color": "white"
             }
            },
            "type": "table"
           }
          ]
         },
         "layout": {
          "annotationdefaults": {
           "arrowhead": 0,
           "arrowwidth": 1
          },
          "autotypenumbers": "strict",
          "coloraxis": {
           "colorbar": {
            "outlinewidth": 0,
            "tickcolor": "rgb(237,237,237)",
            "ticklen": 6,
            "ticks": "inside"
           }
          },
          "colorscale": {
           "sequential": [
            [
             0,
             "rgb(20,44,66)"
            ],
            [
             1,
             "rgb(90,179,244)"
            ]
           ],
           "sequentialminus": [
            [
             0,
             "rgb(20,44,66)"
            ],
            [
             1,
             "rgb(90,179,244)"
            ]
           ]
          },
          "colorway": [
           "#F8766D",
           "#A3A500",
           "#00BF7D",
           "#00B0F6",
           "#E76BF3"
          ],
          "font": {
           "color": "rgb(51,51,51)"
          },
          "geo": {
           "bgcolor": "white",
           "lakecolor": "white",
           "landcolor": "rgb(237,237,237)",
           "showlakes": true,
           "showland": true,
           "subunitcolor": "white"
          },
          "hoverlabel": {
           "align": "left"
          },
          "hovermode": "closest",
          "paper_bgcolor": "white",
          "plot_bgcolor": "rgb(237,237,237)",
          "polar": {
           "angularaxis": {
            "gridcolor": "white",
            "linecolor": "white",
            "showgrid": true,
            "tickcolor": "rgb(51,51,51)",
            "ticks": "outside"
           },
           "bgcolor": "rgb(237,237,237)",
           "radialaxis": {
            "gridcolor": "white",
            "linecolor": "white",
            "showgrid": true,
            "tickcolor": "rgb(51,51,51)",
            "ticks": "outside"
           }
          },
          "scene": {
           "xaxis": {
            "backgroundcolor": "rgb(237,237,237)",
            "gridcolor": "white",
            "gridwidth": 2,
            "linecolor": "white",
            "showbackground": true,
            "showgrid": true,
            "tickcolor": "rgb(51,51,51)",
            "ticks": "outside",
            "zerolinecolor": "white"
           },
           "yaxis": {
            "backgroundcolor": "rgb(237,237,237)",
            "gridcolor": "white",
            "gridwidth": 2,
            "linecolor": "white",
            "showbackground": true,
            "showgrid": true,
            "tickcolor": "rgb(51,51,51)",
            "ticks": "outside",
            "zerolinecolor": "white"
           },
           "zaxis": {
            "backgroundcolor": "rgb(237,237,237)",
            "gridcolor": "white",
            "gridwidth": 2,
            "linecolor": "white",
            "showbackground": true,
            "showgrid": true,
            "tickcolor": "rgb(51,51,51)",
            "ticks": "outside",
            "zerolinecolor": "white"
           }
          },
          "shapedefaults": {
           "fillcolor": "black",
           "line": {
            "width": 0
           },
           "opacity": 0.3
          },
          "ternary": {
           "aaxis": {
            "gridcolor": "white",
            "linecolor": "white",
            "showgrid": true,
            "tickcolor": "rgb(51,51,51)",
            "ticks": "outside"
           },
           "baxis": {
            "gridcolor": "white",
            "linecolor": "white",
            "showgrid": true,
            "tickcolor": "rgb(51,51,51)",
            "ticks": "outside"
           },
           "bgcolor": "rgb(237,237,237)",
           "caxis": {
            "gridcolor": "white",
            "linecolor": "white",
            "showgrid": true,
            "tickcolor": "rgb(51,51,51)",
            "ticks": "outside"
           }
          },
          "xaxis": {
           "automargin": true,
           "gridcolor": "white",
           "linecolor": "white",
           "showgrid": true,
           "tickcolor": "rgb(51,51,51)",
           "ticks": "outside",
           "title": {
            "standoff": 15
           },
           "zerolinecolor": "white"
          },
          "yaxis": {
           "automargin": true,
           "gridcolor": "white",
           "linecolor": "white",
           "showgrid": true,
           "tickcolor": "rgb(51,51,51)",
           "ticks": "outside",
           "title": {
            "standoff": 15
           },
           "zerolinecolor": "white"
          }
         }
        },
        "title": {
         "text": "<b>Admin level: 900.0"
        },
        "updatemenus": [
         {
          "active": 0,
          "buttons": [
           {
            "args": [
             {
              "visible": [
               true,
               true,
               false,
               false,
               false,
               false,
               false,
               false,
               false,
               false
              ]
             },
             {
              "showlegend": true,
              "title": "<b>Admin level: 900.0"
             }
            ],
            "label": "900.0",
            "method": "update"
           },
           {
            "args": [
             {
              "visible": [
               false,
               false,
               true,
               true,
               false,
               false,
               false,
               false,
               false,
               false
              ]
             },
             {
              "showlegend": true,
              "title": "<b>Admin level: 1800.0"
             }
            ],
            "label": "1800.0",
            "method": "update"
           },
           {
            "args": [
             {
              "visible": [
               false,
               false,
               false,
               false,
               true,
               true,
               false,
               false,
               false,
               false
              ]
             },
             {
              "showlegend": true,
              "title": "<b>Admin level: 2700.0"
             }
            ],
            "label": "2700.0",
            "method": "update"
           },
           {
            "args": [
             {
              "visible": [
               false,
               false,
               false,
               false,
               false,
               false,
               true,
               true,
               false,
               false
              ]
             },
             {
              "showlegend": true,
              "title": "<b>Admin level: 3600.0"
             }
            ],
            "label": "3600.0",
            "method": "update"
           },
           {
            "args": [
             {
              "visible": [
               false,
               false,
               false,
               false,
               false,
               false,
               false,
               false,
               true,
               true
              ]
             },
             {
              "showlegend": true,
              "title": "<b>Admin level: 900.0"
             }
            ],
            "label": "900.0",
            "method": "update"
           }
          ],
          "direction": "up",
          "font": {
           "size": 11
          },
          "x": 1.05,
          "xanchor": "left",
          "y": 0.05,
          "yanchor": "bottom"
         }
        ],
        "xaxis": {
         "linecolor": "#000",
         "range": [
          -70000,
          70000
         ],
         "showline": true,
         "ticktext": [
          70000,
          60000,
          50000,
          40000,
          30000,
          20000,
          10000,
          0,
          10000,
          20000,
          30000,
          40000,
          50000,
          60000,
          70000
         ],
         "tickvals": [
          -70000,
          -60000,
          -50000,
          -40000,
          -30000,
          -20000,
          -10000,
          0,
          10000,
          20000,
          30000,
          40000,
          50000,
          60000,
          70000
         ]
        }
       }
      }
     },
     "metadata": {},
     "output_type": "display_data"
    }
   ],
   "source": [
    "aggregated=aggregated\n",
    "joint=False\n",
    "col_label = 'value'\n",
    "legend_title = 'Admin level'\n",
    "plot_title = 'Admin level'\n",
    "\n",
    "fig = plot_pop_data(\n",
    "    gdf=zonal_stat, \n",
    "    col_label=col_label,\n",
    "    legend_title=legend_title, \n",
    "    plot_title=plot_title,\n",
    "    aggregated=aggregated,\n",
    "    joint=joint,\n",
    "    cmap_name='viridis'\n",
    "    )\n",
    "\n",
    "fig.show()"
   ]
  },
  {
   "cell_type": "code",
   "execution_count": null,
   "id": "2d8352cb",
   "metadata": {},
   "outputs": [],
   "source": []
  }
 ],
 "metadata": {
  "kernelspec": {
   "display_name": "proximity",
   "language": "python",
   "name": "python3"
  },
  "language_info": {
   "codemirror_mode": {
    "name": "ipython",
    "version": 3
   },
   "file_extension": ".py",
   "mimetype": "text/x-python",
   "name": "python",
   "nbconvert_exporter": "python",
   "pygments_lexer": "ipython3",
   "version": "3.9.16"
  }
 },
 "nbformat": 4,
 "nbformat_minor": 5
}
