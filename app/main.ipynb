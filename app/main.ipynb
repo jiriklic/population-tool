{
 "cells": [
  {
   "cell_type": "markdown",
   "id": "f0431919-c80a-4f52-bf4e-22454611d75f",
   "metadata": {},
   "source": [
    "# Test notebook"
   ]
  },
  {
   "cell_type": "markdown",
   "id": "a101c1d8-3ed5-49fa-8766-c3528b8d85d7",
   "metadata": {},
   "source": [
    "## Imports"
   ]
  },
  {
   "cell_type": "code",
   "execution_count": null,
   "id": "058ee495-3a04-43db-a16f-66b3c21ab21b",
   "metadata": {},
   "outputs": [],
   "source": [
    "%load_ext autoreload\n",
    "%autoreload 2"
   ]
  },
  {
   "cell_type": "code",
   "execution_count": null,
   "id": "dff3e296-74bc-4b6d-9c67-8c5faba7315d",
   "metadata": {},
   "outputs": [],
   "source": [
    "# import folium\n",
    "# import streamlit as st\n",
    "# import os\n",
    "# import matplotlib\n",
    "# from rasterstats import zonal_stats\n",
    "# import rasterio\n",
    "# import requests\n",
    "\n",
    "from src.utils import *\n",
    "from src.utils_population import *\n",
    "from src.utils_plotting import *"
   ]
  },
  {
   "cell_type": "markdown",
   "id": "ec473073-ad4f-4b89-862b-3071e7cf55d2",
   "metadata": {},
   "source": [
    "## User input"
   ]
  },
  {
   "cell_type": "code",
   "execution_count": null,
   "id": "e08206b6-ce1e-4077-a867-22a1722ca9b3",
   "metadata": {},
   "outputs": [],
   "source": [
    "# Parameters given by the user\n",
    "# gdf_file = \"test_data/mda_isochrones.geojson\"\n",
    "# gdf_file = 'test_data/mda_isochrones.zip'\n",
    "# gdf_file = 'test_data/per_admn_ad3_py_s1_ign_pp_district.zip'\n",
    "gdf_file = 'test_data/shakeintensity_complex.zip'\n",
    "data_type = \"unconstrained\"\n",
    "year = 2020\n",
    "aggregated = True"
   ]
  },
  {
   "cell_type": "markdown",
   "id": "b0db9a1c-d4a5-44ee-82f6-c0098cb47ccb",
   "metadata": {},
   "source": [
    "## Process input data"
   ]
  },
  {
   "cell_type": "code",
   "execution_count": null,
   "id": "988ec368-3683-483c-bbe4-2c3e668aebd4",
   "metadata": {},
   "outputs": [],
   "source": [
    "# Create geopandas dataframes and prepare starting points\n",
    "gdf, size_gdf, error = load_gdf(gdf_file)\n",
    "\n",
    "if error:\n",
    "    raise ValueError(error)\n",
    "    \n",
    "# gdf = gdf.iloc[:5, ]"
   ]
  },
  {
   "cell_type": "code",
   "execution_count": null,
   "id": "ff1cba1b",
   "metadata": {},
   "outputs": [],
   "source": [
    "gdf"
   ]
  },
  {
   "cell_type": "markdown",
   "id": "2dd44763-e60a-4189-8eb5-bce44f207111",
   "metadata": {},
   "source": [
    "## Run computation"
   ]
  },
  {
   "cell_type": "code",
   "execution_count": null,
   "id": "0e3e78ff",
   "metadata": {},
   "outputs": [],
   "source": [
    "ee.Initialize()"
   ]
  },
  {
   "cell_type": "code",
   "execution_count": null,
   "id": "4edb6ecf",
   "metadata": {},
   "outputs": [],
   "source": [
    "%%time\n",
    "\n",
    "gdf_with_pop = add_population_data(\n",
    "    gdf=gdf,\n",
    "    size_gdf=size_gdf,\n",
    "    data_type=data_type,\n",
    "    tif_folder='test_data/pop_data',\n",
    "    data_folder='data',\n",
    "    year=year,\n",
    "    aggregated=aggregated,\n",
    "    clobber=False,\n",
    "    verbose=True,\n",
    "    text_on_streamlit=False,\n",
    "    progress_bar=False,\n",
    "    force_from_wpAPI=False,\n",
    "    force_from_GEE=False,\n",
    ")"
   ]
  },
  {
   "cell_type": "code",
   "execution_count": null,
   "id": "117ed73e",
   "metadata": {},
   "outputs": [],
   "source": [
    "gdf_with_pop"
   ]
  },
  {
   "cell_type": "markdown",
   "id": "e8f599d1",
   "metadata": {},
   "source": [
    "## Plot"
   ]
  },
  {
   "cell_type": "code",
   "execution_count": null,
   "id": "53e4b998",
   "metadata": {},
   "outputs": [],
   "source": [
    "aggregated=aggregated\n",
    "joint=False\n",
    "col_label = 'ADM3_ES'\n",
    "legend_title = 'Admin level'\n",
    "plot_title = 'Admin level'\n",
    "\n",
    "fig = plot_pop_data(\n",
    "    gdf=gdf_with_pop, \n",
    "    col_label=col_label,\n",
    "    legend_title=legend_title, \n",
    "    plot_title=plot_title,\n",
    "    aggregated=aggregated,\n",
    "    joint=joint,\n",
    "    cmap_name='viridis'\n",
    "    )\n",
    "\n",
    "fig.show()"
   ]
  },
  {
   "cell_type": "markdown",
   "id": "69665802",
   "metadata": {},
   "source": [
    "## Save"
   ]
  },
  {
   "cell_type": "code",
   "execution_count": null,
   "id": "b146f969",
   "metadata": {},
   "outputs": [],
   "source": [
    "gdf_with_pop.to_file(f\"{gdf_file.split('.')[0]}_with_pop.shp.zip\", encoding='utf-8', driver=\"ESRI Shapefile\")"
   ]
  },
  {
   "cell_type": "markdown",
   "id": "b01c574f",
   "metadata": {},
   "source": [
    "## Check saved file"
   ]
  },
  {
   "cell_type": "code",
   "execution_count": null,
   "id": "31b1855a",
   "metadata": {},
   "outputs": [],
   "source": [
    "gdf_check = gpd.read_file(f\"{gdf_file.split('.')[0]}_with_pop.shp.zip\")"
   ]
  }
 ],
 "metadata": {
  "kernelspec": {
   "display_name": "Python [conda env:proximity]",
   "language": "python",
   "name": "conda-env-proximity-py"
  },
  "language_info": {
   "codemirror_mode": {
    "name": "ipython",
    "version": 3
   },
   "file_extension": ".py",
   "mimetype": "text/x-python",
   "name": "python",
   "nbconvert_exporter": "python",
   "pygments_lexer": "ipython3",
   "version": "3.9.16"
  }
 },
 "nbformat": 4,
 "nbformat_minor": 5
}
